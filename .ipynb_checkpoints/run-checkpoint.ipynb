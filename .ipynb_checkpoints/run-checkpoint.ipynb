{
 "cells": [
  {
   "cell_type": "code",
   "execution_count": 1,
   "id": "dd55ba1a",
   "metadata": {},
   "outputs": [],
   "source": [
    "import web3\n",
    "import json\n",
    "import yaml\n",
    "import random\n",
    "from web3 import Web3, AsyncWeb3\n",
    "from web3.gas_strategies.rpc import rpc_gas_price_strategy"
   ]
  },
  {
   "cell_type": "code",
   "execution_count": 2,
   "id": "44cac65b",
   "metadata": {},
   "outputs": [],
   "source": [
    "faucet_address = \"0xfb2c2196831DeEb8311d2CB4B646B94Ed5eCF684\"\n",
    "main_contract_address = \"0xe0875CBD144Fe66C015a95E5B2d2C15c3b612179\"\n",
    "bridge_contract = \"0x2F1673beD3E85219E2B01BC988ABCc482261c38c\""
   ]
  },
  {
   "cell_type": "code",
   "execution_count": 3,
   "id": "25c13572",
   "metadata": {},
   "outputs": [],
   "source": [
    "with open(\"faucet_abi.json\", \"r\") as f:\n",
    "    faucet_abi = json.load(f)\n",
    "    \n",
    "with open(\"main_abi.json\", \"r\") as f:\n",
    "    main_abi = json.load(f)\n",
    "    \n",
    "with open(\"chainlink_abi.json\", \"r\") as f:\n",
    "    chainlink_abi = json.load(f)\n",
    "    \n",
    "with open(\"bridge_abi.json\", \"r\") as f:\n",
    "    bridge_abi = json.load(f)"
   ]
  },
  {
   "cell_type": "code",
   "execution_count": 4,
   "id": "da936fdf",
   "metadata": {},
   "outputs": [],
   "source": [
    "with open('env.yaml', 'r') as file:\n",
    "    env = yaml.safe_load(file)"
   ]
  },
  {
   "cell_type": "code",
   "execution_count": 5,
   "id": "19f4b73a",
   "metadata": {},
   "outputs": [],
   "source": [
    "account_address = env[\"account_address\"]\n",
    "private_key = env[\"private_key\"]\n",
    "url = env[\"arbitrum_sepolia_url\"]\n",
    "\n",
    "web3_client = Web3(Web3.HTTPProvider(url))\n",
    "web3_client.eth.set_gas_price_strategy(\n",
    "    rpc_gas_price_strategy\n",
    ")\n",
    "\n",
    "faucet_ammount = env[\"synthr_faucet_token_amount\"]\n",
    "lz_value = env[\"lz_value\"]\n",
    "lz_value_burn = env[\"lz_value_burn\"]\n",
    "lz_value_wd = env[\"lz_value_wd\"]\n",
    "\n",
    "default_gas = 2000000 + random.randint(1, 100)\n",
    "default_gas_price = web3_client.eth.gas_price\n",
    "default_gas_price = Web3.to_wei(\"50\", \"gwei\")"
   ]
  },
  {
   "cell_type": "code",
   "execution_count": null,
   "id": "4e3783fb",
   "metadata": {},
   "outputs": [],
   "source": [
    "default_gas"
   ]
  },
  {
   "cell_type": "code",
   "execution_count": null,
   "id": "5d2c205a",
   "metadata": {},
   "outputs": [],
   "source": [
    "100050000"
   ]
  },
  {
   "cell_type": "code",
   "execution_count": null,
   "id": "3eb8696b",
   "metadata": {},
   "outputs": [],
   "source": [
    "default_gas_price"
   ]
  },
  {
   "cell_type": "code",
   "execution_count": null,
   "id": "0b32e84a",
   "metadata": {},
   "outputs": [],
   "source": [
    "account_balance = web3_client.eth.get_balance(account_address)"
   ]
  },
  {
   "cell_type": "code",
   "execution_count": null,
   "id": "307da5df",
   "metadata": {},
   "outputs": [],
   "source": [
    "account_balance"
   ]
  },
  {
   "cell_type": "code",
   "execution_count": null,
   "id": "cca077dc",
   "metadata": {},
   "outputs": [],
   "source": []
  },
  {
   "cell_type": "code",
   "execution_count": 6,
   "id": "be3096af",
   "metadata": {},
   "outputs": [],
   "source": [
    "def interact(web3_client, contract_address, function_name, abi, account_address, \n",
    "             private_key, function_args, gas, gas_price, lz_value):\n",
    "    \n",
    "    contract = web3_client.eth.contract(\n",
    "        address=web3_client.to_checksum_address(contract_address), abi=abi\n",
    "    )\n",
    "    trx = contract.functions[function_name](*function_args).build_transaction({\n",
    "        \"from\": account_address,\n",
    "        \"nonce\": web3_client.eth.get_transaction_count(account_address),\n",
    "        \"gas\": gas, # re-enable if you don't want it to automatically match network gas\n",
    "        \"gasPrice\": default_gas_price,\n",
    "        \"value\": web3_client.to_wei(lz_value, \"ether\"),\n",
    "        })\n",
    "    signed_txn = web3_client.eth.account.sign_transaction(trx, private_key)\n",
    "    txn_hash = web3_client.eth.send_raw_transaction(signed_txn.rawTransaction)\n",
    "    check_transaction_status(web3_client, txn_hash)"
   ]
  },
  {
   "cell_type": "code",
   "execution_count": 7,
   "id": "3475d689",
   "metadata": {},
   "outputs": [],
   "source": [
    "def check_transaction_status(web3_client, txn_hash) -> int:\n",
    "    while True:\n",
    "        try:\n",
    "            txn_receipt = web3_client.eth.get_transaction_receipt(txn_hash)\n",
    "            if txn_receipt is not None:\n",
    "                print(\"Success\")\n",
    "                break\n",
    "#             time.sleep(5)\n",
    "        except Exception as e:\n",
    "            print(f\"Error checking transaction status {e}\")\n",
    "#     return int(txn_receipt[\"status\"])"
   ]
  },
  {
   "cell_type": "code",
   "execution_count": 8,
   "id": "4bfcd6dd",
   "metadata": {},
   "outputs": [],
   "source": [
    "def read_function_from_contract(web3_client, contract_address: str, function_name: str, abi: dict, *args):\n",
    "    contract = web3_client.eth.contract(\n",
    "        address=web3_client.to_checksum_address(contract_address), abi=abi\n",
    "    )\n",
    "    return contract.functions[function_name](*args)"
   ]
  },
  {
   "cell_type": "markdown",
   "id": "8940782e",
   "metadata": {},
   "source": [
    "### Claim Faucet"
   ]
  },
  {
   "cell_type": "code",
   "execution_count": null,
   "id": "fb7b5c85",
   "metadata": {},
   "outputs": [],
   "source": [
    "interact(\n",
    "    web3_client=web3_client,\n",
    "    contract_address=Web3.to_checksum_address(faucet_address),\n",
    "    function_name=\"faucetToken\",\n",
    "    abi=faucet_abi, \n",
    "    account_address=account_address,\n",
    "    private_key=private_key,\n",
    "    function_args=(faucet_ammount,), \n",
    "    gas=default_gas, \n",
    "    gas_price=default_gas_price,\n",
    "    lz_value=lz_value\n",
    ")"
   ]
  },
  {
   "cell_type": "markdown",
   "id": "aef279df",
   "metadata": {},
   "source": [
    "### Approve Transactions"
   ]
  },
  {
   "cell_type": "code",
   "execution_count": 9,
   "id": "86352140",
   "metadata": {
    "scrolled": true
   },
   "outputs": [
    {
     "name": "stdout",
     "output_type": "stream",
     "text": [
      "Success\n"
     ]
    }
   ],
   "source": [
    "interact(\n",
    "    web3_client=web3_client, \n",
    "    contract_address=faucet_address, \n",
    "    function_name=\"approve\", \n",
    "    abi=faucet_abi, \n",
    "    account_address=account_address, \n",
    "    private_key=private_key, \n",
    "    function_args=(main_contract_address, 115792089237316195423570985008687907853269984665640564039457584007913129639935,), \n",
    "    gas=default_gas, \n",
    "    gas_price=default_gas_price, \n",
    "    lz_value=lz_value_burn\n",
    ")"
   ]
  },
  {
   "cell_type": "markdown",
   "id": "f58c84dc",
   "metadata": {},
   "source": [
    "### Add Collateral"
   ]
  },
  {
   "cell_type": "code",
   "execution_count": null,
   "id": "eb4f74ad",
   "metadata": {},
   "outputs": [],
   "source": [
    "interact(\n",
    "    web3_client=web3_client, \n",
    "    contract_address=main_contract_address, \n",
    "    function_name=\"issueSynths\", \n",
    "    abi=main_abi, \n",
    "    account_address=account_address, \n",
    "    private_key=private_key, \n",
    "    function_args=(\n",
    "        \"0x4545544800000000000000000000000000000000000000000000000000000000\",\n",
    "        faucet_ammount,\n",
    "        0,\n",
    "        \"0x4c617965725a65726f0000000000000000000000000000000000000000000000\",\n",
    "        0,\n",
    "        False,\n",
    "    ), \n",
    "    gas=default_gas,\n",
    "    gas_price=default_gas_price,\n",
    "    lz_value=lz_value\n",
    ")"
   ]
  },
  {
   "cell_type": "markdown",
   "id": "19fa5969",
   "metadata": {},
   "source": [
    "### Mint SyUSD"
   ]
  },
  {
   "cell_type": "code",
   "execution_count": null,
   "id": "ce9cfd70",
   "metadata": {},
   "outputs": [],
   "source": [
    "issue_amount = int(1e18 * 10_000) + random.randint(\n",
    "            0, int(1e8)\n",
    "        )"
   ]
  },
  {
   "cell_type": "code",
   "execution_count": null,
   "id": "3226e4f9",
   "metadata": {},
   "outputs": [],
   "source": [
    "interact(\n",
    "    web3_client=web3_client, \n",
    "    contract_address=main_contract_address, \n",
    "    function_name=\"issueSynths\", \n",
    "    abi=main_abi, \n",
    "    account_address=account_address, \n",
    "    private_key=private_key, \n",
    "    function_args=(\n",
    "                \"0x0000000000000000000000000000000000000000000000000000000000000000\",\n",
    "                0,\n",
    "                issue_amount,\n",
    "                \"0x4c617965725a65726f0000000000000000000000000000000000000000000000\",\n",
    "                0,\n",
    "                False,\n",
    "    ),\n",
    "    gas=default_gas,\n",
    "    gas_price=default_gas_price,\n",
    "    lz_value=lz_value\n",
    ")"
   ]
  },
  {
   "cell_type": "markdown",
   "id": "7f6b8ef2",
   "metadata": {},
   "source": [
    "### Cross Chain Swap"
   ]
  },
  {
   "cell_type": "code",
   "execution_count": null,
   "id": "f14aee5e",
   "metadata": {},
   "outputs": [],
   "source": [
    "# to much gas fee, skip temporary"
   ]
  },
  {
   "cell_type": "code",
   "execution_count": null,
   "id": "8abc8d51",
   "metadata": {},
   "outputs": [],
   "source": [
    "interact(\n",
    "    web3_client=web3_client, \n",
    "    contract_address=main_contract_address, \n",
    "    function_name=\"exchangeAtomically\", \n",
    "    abi=main_abi, \n",
    "    account_address=account_address, \n",
    "    private_key=private_key, \n",
    "    function_args=(\n",
    "                \"0x7355534400000000000000000000000000000000000000000000000000000000\",\n",
    "                10000000000000000000,  # 10 sUSD\n",
    "                \"0x7355534400000000000000000000000000000000000000000000000000000000\",\n",
    "                9980000000000000000,\n",
    "                \"0x4c617965725a65726f0000000000000000000000000000000000000000000000\",\n",
    "                10106,\n",
    "                False,\n",
    "    ),\n",
    "    gas=default_gas,\n",
    "    gas_price=default_gas_price,\n",
    "    lz_value=lz_value\n",
    ")"
   ]
  },
  {
   "cell_type": "markdown",
   "id": "10a7e11d",
   "metadata": {},
   "source": [
    "### Same Chain Swap"
   ]
  },
  {
   "cell_type": "code",
   "execution_count": null,
   "id": "336266a1",
   "metadata": {},
   "outputs": [],
   "source": [
    "eth_usd_chainlink_feed = \"0xd30e2101a97dcbAeBCBC04F14C3f624E67A35165\"\n",
    "eth_usd_price_raw = read_function_from_contract(\n",
    "                        web3_client=web3_client,\n",
    "                        contract_address=eth_usd_chainlink_feed,\n",
    "                        function_name=\"latestAnswer\",\n",
    "                        abi=chainlink_abi,\n",
    "                    ).call()\n",
    "eth_usd_price = int(eth_usd_price_raw) / 1e8 if eth_usd_price_raw != 0 else 0\n",
    "usd_eth_price = 1 / eth_usd_price"
   ]
  },
  {
   "cell_type": "code",
   "execution_count": null,
   "id": "781d7fe6",
   "metadata": {},
   "outputs": [],
   "source": [
    "eth_usd_price_raw"
   ]
  },
  {
   "cell_type": "code",
   "execution_count": null,
   "id": "c5b30a7a",
   "metadata": {},
   "outputs": [],
   "source": [
    "interact(\n",
    "    web3_client=web3_client, \n",
    "    contract_address=main_contract_address, \n",
    "    function_name=\"exchangeAtomically\", \n",
    "    abi=main_abi, \n",
    "    account_address=account_address, \n",
    "    private_key=private_key, \n",
    "    function_args=(\n",
    "                \"0x7355534400000000000000000000000000000000000000000000000000000000\",\n",
    "                int(10 * 1e18),  # 10 sUSD\n",
    "                \"0x7345544800000000000000000000000000000000000000000000000000000000\",\n",
    "                int(usd_eth_price * 10 * 1e18)\n",
    "                - 68014044637676,\n",
    "                \"0x4c617965725a65726f0000000000000000000000000000000000000000000000\",\n",
    "                0,\n",
    "                False,\n",
    "    ),\n",
    "    gas=default_gas,\n",
    "    gas_price=default_gas_price,\n",
    "    lz_value=lz_value\n",
    ")"
   ]
  },
  {
   "cell_type": "markdown",
   "id": "330d1e97",
   "metadata": {},
   "source": [
    "### Bridge"
   ]
  },
  {
   "cell_type": "markdown",
   "id": "9e0d23e0",
   "metadata": {},
   "source": [
    "#### Same issue, skip this"
   ]
  },
  {
   "cell_type": "code",
   "execution_count": null,
   "id": "f2492583",
   "metadata": {},
   "outputs": [],
   "source": [
    "bridge_amount = int(10 * 1e18) + random.randint(0, 10000000000)"
   ]
  },
  {
   "cell_type": "code",
   "execution_count": null,
   "id": "01d01294",
   "metadata": {},
   "outputs": [],
   "source": [
    "interact(\n",
    "    web3_client=web3_client, \n",
    "    contract_address=bridge_contract, \n",
    "    function_name=\"bridgeSynth\", \n",
    "    abi=bridge_abi, \n",
    "    account_address=account_address, \n",
    "    private_key=private_key, \n",
    "    function_args=(\n",
    "                account_address,\n",
    "                \"0x7355534400000000000000000000000000000000000000000000000000000000\",\n",
    "                bridge_amount,\n",
    "                \"0x4c617965725a65726f0000000000000000000000000000000000000000000000\",\n",
    "                10106,\n",
    "                False,\n",
    "    ),\n",
    "    gas=default_gas,\n",
    "    gas_price=default_gas_price,\n",
    "    lz_value=lz_value\n",
    ")"
   ]
  },
  {
   "cell_type": "markdown",
   "id": "d4bb8445",
   "metadata": {},
   "source": [
    "### Burn usd"
   ]
  },
  {
   "cell_type": "code",
   "execution_count": null,
   "id": "9b00fe21",
   "metadata": {},
   "outputs": [],
   "source": [
    "interact(\n",
    "    web3_client=web3_client, \n",
    "    contract_address=main_contract_address, \n",
    "    function_name=\"burnSynths\", \n",
    "    abi=main_abi, \n",
    "    account_address=account_address, \n",
    "    private_key=private_key, \n",
    "    function_args=(\n",
    "                10000000000000000000,\n",
    "                \"0x7355534400000000000000000000000000000000000000000000000000000000\",\n",
    "                \"0x4c617965725a65726f0000000000000000000000000000000000000000000000\",\n",
    "    ),\n",
    "    gas=default_gas,\n",
    "    gas_price=default_gas_price,\n",
    "    lz_value=lz_value_burn\n",
    ")"
   ]
  },
  {
   "cell_type": "markdown",
   "id": "1e3e189b",
   "metadata": {},
   "source": [
    "### Withdraw Collateral"
   ]
  },
  {
   "cell_type": "code",
   "execution_count": 10,
   "id": "122da8f4",
   "metadata": {},
   "outputs": [
    {
     "name": "stdout",
     "output_type": "stream",
     "text": [
      "Success\n"
     ]
    }
   ],
   "source": [
    "interact(\n",
    "    web3_client=web3_client, \n",
    "    contract_address=main_contract_address, \n",
    "    function_name=\"withdrawCollateral\", \n",
    "    abi=main_abi, \n",
    "    account_address=account_address, \n",
    "    private_key=private_key, \n",
    "    function_args=(\n",
    "                \"0x4554480000000000000000000000000000000000000000000000000000000000\",\n",
    "                10,  # Feel free to change it to any amount you want,\n",
    "                # if you want to test liquidation functionality of the protocol.\n",
    "                \"0x4c617965725a65726f0000000000000000000000000000000000000000000000\",\n",
    "                0,\n",
    "                False,\n",
    "    ),\n",
    "    gas=default_gas,\n",
    "    gas_price=default_gas_price,\n",
    "    lz_value=lz_value_burn\n",
    ")"
   ]
  },
  {
   "cell_type": "code",
   "execution_count": null,
   "id": "acd917a2",
   "metadata": {},
   "outputs": [],
   "source": [
    "contract = web3_client.eth.contract(\n",
    "        address=web3_client.to_checksum_address(main_contract_address), abi=main_abi)"
   ]
  },
  {
   "cell_type": "code",
   "execution_count": null,
   "id": "a2afd443",
   "metadata": {},
   "outputs": [],
   "source": [
    "for func in contract.functions:\n",
    "    print(func)"
   ]
  },
  {
   "cell_type": "code",
   "execution_count": null,
   "id": "f116f046",
   "metadata": {},
   "outputs": [],
   "source": [
    "contract.functions.withdrawCollateral()"
   ]
  }
 ],
 "metadata": {
  "kernelspec": {
   "display_name": "Python [conda env:synthr] *",
   "language": "python",
   "name": "conda-env-synthr-py"
  },
  "language_info": {
   "codemirror_mode": {
    "name": "ipython",
    "version": 3
   },
   "file_extension": ".py",
   "mimetype": "text/x-python",
   "name": "python",
   "nbconvert_exporter": "python",
   "pygments_lexer": "ipython3",
   "version": "3.10.14"
  }
 },
 "nbformat": 4,
 "nbformat_minor": 5
}
